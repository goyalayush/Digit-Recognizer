{
 "cells": [
  {
   "cell_type": "code",
   "execution_count": 9,
   "metadata": {
    "scrolled": true
   },
   "outputs": [
    {
     "ename": "AttributeError",
     "evalue": "module 'pandas' has no attribute 'read_csv'",
     "output_type": "error",
     "traceback": [
      "\u001b[0;31m---------------------------------------------------------------------------\u001b[0m",
      "\u001b[0;31mAttributeError\u001b[0m                            Traceback (most recent call last)",
      "\u001b[0;32m<ipython-input-9-91def4fe6be9>\u001b[0m in \u001b[0;36m<module>\u001b[0;34m()\u001b[0m\n\u001b[1;32m      5\u001b[0m \u001b[0;34m\u001b[0m\u001b[0m\n\u001b[1;32m      6\u001b[0m \u001b[0;31m# data = pd.read_csv(\"/home/ayush/Downloads/train.csv\").as_matrix()\u001b[0m\u001b[0;34m\u001b[0m\u001b[0;34m\u001b[0m\u001b[0m\n\u001b[0;32m----> 7\u001b[0;31m \u001b[0mdata\u001b[0m \u001b[0;34m=\u001b[0m \u001b[0mpd\u001b[0m\u001b[0;34m.\u001b[0m\u001b[0mread_csv\u001b[0m\u001b[0;34m(\u001b[0m\u001b[0;34m\"/home/ayush/Downloads/train.csv\"\u001b[0m\u001b[0;34m)\u001b[0m\u001b[0;34m.\u001b[0m\u001b[0mvalues\u001b[0m\u001b[0;34m\u001b[0m\u001b[0m\n\u001b[0m\u001b[1;32m      8\u001b[0m \u001b[0mdata2\u001b[0m \u001b[0;34m=\u001b[0m \u001b[0mpd\u001b[0m\u001b[0;34m.\u001b[0m\u001b[0mread_csv\u001b[0m\u001b[0;34m(\u001b[0m\u001b[0;34m\"/home/ayush/Downloads/test.csv\"\u001b[0m\u001b[0;34m)\u001b[0m\u001b[0;34m.\u001b[0m\u001b[0mvalues\u001b[0m\u001b[0;34m\u001b[0m\u001b[0m\n\u001b[1;32m      9\u001b[0m \u001b[0mclf\u001b[0m \u001b[0;34m=\u001b[0m \u001b[0mDecisionTreeClassifier\u001b[0m\u001b[0;34m(\u001b[0m\u001b[0;34m)\u001b[0m\u001b[0;34m\u001b[0m\u001b[0m\n",
      "\u001b[0;31mAttributeError\u001b[0m: module 'pandas' has no attribute 'read_csv'"
     ]
    }
   ],
   "source": [
    "import numpy as np\n",
    "import matplotlib.pyplot as pt\n",
    "import pandas as pd\n",
    "from sklearn.tree import DecisionTreeClassifier\n",
    "\n",
    "# data = pd.read_csv(\"/home/ayush/Downloads/train.csv\").as_matrix()\n",
    "data = pd.read_csv(\"/home/ayush/Downloads/train.csv\").values\n",
    "data2 = pd.read_csv(\"/home/ayush/Downloads/test.csv\").values\n",
    "clf = DecisionTreeClassifier()\n",
    "\n",
    "#training datasets\n",
    "xtrain = data[0:42000, 1:]\n",
    "train_label = data[0:42000, 0]\n",
    "\n",
    "clf.fit(xtrain, train_label)\n",
    "\n",
    "#testing datasets\n",
    "xtest = data2[0:28000, 1:]\n",
    "# actual_label = data[21000:, 0]\n",
    "\n",
    "# d = xtest[8]\n",
    "# d.shape = (28,28)\n",
    "# pt.imshow(255-d, cmap=\"gray\")\n",
    "# print(clf.predict([xtest[8]]))\n",
    "# pt.show()\n",
    "\n",
    "\n",
    "p = clf.predict(xtest)\n",
    "\n",
    "# count = 0\n",
    "# for i in range(0,21000):\n",
    "#     count += 1 if p[i] == actual_label[i] else 0\n",
    "# print(\"Accuracy =\", count/21000 *100)\n",
    "for i in range(1,28000):\n",
    "    print(p[i],'\\n')\n",
    "# with open('/home/ayush/Downloads/sample_submission.csv','w') as f:\n",
    "#     for i in range(1,28000):\n",
    "#         f.write()\n",
    "\n",
    "\n"
   ]
  },
  {
   "cell_type": "code",
   "execution_count": null,
   "metadata": {},
   "outputs": [],
   "source": []
  }
 ],
 "metadata": {
  "kernelspec": {
   "display_name": "Python 3",
   "language": "python",
   "name": "python3"
  },
  "language_info": {
   "codemirror_mode": {
    "name": "ipython",
    "version": 3
   },
   "file_extension": ".py",
   "mimetype": "text/x-python",
   "name": "python",
   "nbconvert_exporter": "python",
   "pygments_lexer": "ipython3",
   "version": "3.6.6"
  }
 },
 "nbformat": 4,
 "nbformat_minor": 2
}
